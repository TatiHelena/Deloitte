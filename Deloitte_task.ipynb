{
 "cells": [
  {
   "cell_type": "markdown",
   "id": "c19f11ae-0f79-4ae1-9087-67bc6e710408",
   "metadata": {},
   "source": [
    "### Deloitte task"
   ]
  },
  {
   "cell_type": "code",
   "execution_count": 1,
   "id": "9964b758-d866-4c49-9600-7fdd5ab147bb",
   "metadata": {},
   "outputs": [],
   "source": [
    "import pandas as pd \n",
    "import numpy as np\n",
    "import matplotlib.pyplot as plt \n",
    "import seaborn as sns \n",
    "\n",
    "%matplotlib inline\n",
    "\n",
    "import warnings\n",
    "warnings.filterwarnings('ignore')"
   ]
  },
  {
   "cell_type": "code",
   "execution_count": 2,
   "id": "55d38645-0fe5-450b-bd53-64a1cb08d2ba",
   "metadata": {},
   "outputs": [],
   "source": [
    "df = pd.read_csv('Measurements Dataset.csv')"
   ]
  },
  {
   "cell_type": "markdown",
   "id": "777011a0-154d-4655-b497-d2f67b2c45ad",
   "metadata": {},
   "source": [
    "### Visualizing the first 5 rows of the dataset "
   ]
  },
  {
   "cell_type": "code",
   "execution_count": 3,
   "id": "6a4d2041-355e-4365-9281-22217fe0e1f9",
   "metadata": {},
   "outputs": [
    {
     "data": {
      "text/html": [
       "<div>\n",
       "<style scoped>\n",
       "    .dataframe tbody tr th:only-of-type {\n",
       "        vertical-align: middle;\n",
       "    }\n",
       "\n",
       "    .dataframe tbody tr th {\n",
       "        vertical-align: top;\n",
       "    }\n",
       "\n",
       "    .dataframe thead th {\n",
       "        text-align: right;\n",
       "    }\n",
       "</style>\n",
       "<table border=\"1\" class=\"dataframe\">\n",
       "  <thead>\n",
       "    <tr style=\"text-align: right;\">\n",
       "      <th></th>\n",
       "      <th>Unnamed: 0</th>\n",
       "      <th>date</th>\n",
       "      <th>location</th>\n",
       "      <th>IP address</th>\n",
       "      <th>component</th>\n",
       "      <th>interaction</th>\n",
       "      <th>duration</th>\n",
       "      <th>downtime</th>\n",
       "    </tr>\n",
       "  </thead>\n",
       "  <tbody>\n",
       "    <tr>\n",
       "      <th>0</th>\n",
       "      <td>0</td>\n",
       "      <td>2021-08-18</td>\n",
       "      <td>950 Rebecca Ranch Suite 170\\nNew Scott, NH 81801</td>\n",
       "      <td>165.61.147.242</td>\n",
       "      <td>mongodb database</td>\n",
       "      <td>other</td>\n",
       "      <td>16.90</td>\n",
       "      <td>13.89</td>\n",
       "    </tr>\n",
       "    <tr>\n",
       "      <th>1</th>\n",
       "      <td>1</td>\n",
       "      <td>2021-06-08</td>\n",
       "      <td>55068 Kyle Centers\\nNorth Jenniferhaven, HI 44276</td>\n",
       "      <td>159.146.10.26</td>\n",
       "      <td>sap shipping management system</td>\n",
       "      <td>invalid SAP unit code</td>\n",
       "      <td>80.96</td>\n",
       "      <td>0.00</td>\n",
       "    </tr>\n",
       "    <tr>\n",
       "      <th>2</th>\n",
       "      <td>2</td>\n",
       "      <td>2021-08-01</td>\n",
       "      <td>60517 Richard Lake\\nLake Lori, NJ 37360</td>\n",
       "      <td>129.94.76.202</td>\n",
       "      <td>sap shipping management system</td>\n",
       "      <td>server error</td>\n",
       "      <td>49.47</td>\n",
       "      <td>0.00</td>\n",
       "    </tr>\n",
       "    <tr>\n",
       "      <th>3</th>\n",
       "      <td>3</td>\n",
       "      <td>2021-08-03</td>\n",
       "      <td>829 Cox Ferry\\nNicholasshire, VA 23634</td>\n",
       "      <td>49.137.245.5</td>\n",
       "      <td>django controller</td>\n",
       "      <td>HTTP 401 response</td>\n",
       "      <td>2.56</td>\n",
       "      <td>0.00</td>\n",
       "    </tr>\n",
       "    <tr>\n",
       "      <th>4</th>\n",
       "      <td>4</td>\n",
       "      <td>2021-08-10</td>\n",
       "      <td>940 Odom Lodge\\nTimothyburgh, AZ 75746</td>\n",
       "      <td>172.200.143.223</td>\n",
       "      <td>ios frontend</td>\n",
       "      <td>dormant</td>\n",
       "      <td>47.26</td>\n",
       "      <td>0.00</td>\n",
       "    </tr>\n",
       "  </tbody>\n",
       "</table>\n",
       "</div>"
      ],
      "text/plain": [
       "   Unnamed: 0        date                                           location  \\\n",
       "0           0  2021-08-18   950 Rebecca Ranch Suite 170\\nNew Scott, NH 81801   \n",
       "1           1  2021-06-08  55068 Kyle Centers\\nNorth Jenniferhaven, HI 44276   \n",
       "2           2  2021-08-01            60517 Richard Lake\\nLake Lori, NJ 37360   \n",
       "3           3  2021-08-03             829 Cox Ferry\\nNicholasshire, VA 23634   \n",
       "4           4  2021-08-10             940 Odom Lodge\\nTimothyburgh, AZ 75746   \n",
       "\n",
       "        IP address                       component            interaction  \\\n",
       "0   165.61.147.242                mongodb database                  other   \n",
       "1    159.146.10.26  sap shipping management system  invalid SAP unit code   \n",
       "2    129.94.76.202  sap shipping management system           server error   \n",
       "3     49.137.245.5               django controller      HTTP 401 response   \n",
       "4  172.200.143.223                    ios frontend                dormant   \n",
       "\n",
       "   duration  downtime  \n",
       "0     16.90     13.89  \n",
       "1     80.96      0.00  \n",
       "2     49.47      0.00  \n",
       "3      2.56      0.00  \n",
       "4     47.26      0.00  "
      ]
     },
     "execution_count": 3,
     "metadata": {},
     "output_type": "execute_result"
    }
   ],
   "source": [
    "df.head()"
   ]
  },
  {
   "cell_type": "markdown",
   "id": "9c7c37b6-edd5-44cb-8faf-70aa7c298dfb",
   "metadata": {},
   "source": [
    "### Shape of the dataset (number of rows and columns)"
   ]
  },
  {
   "cell_type": "code",
   "execution_count": 4,
   "id": "935d8b02-6467-4399-972d-d2d1281f8bbf",
   "metadata": {},
   "outputs": [
    {
     "data": {
      "text/plain": [
       "(7566, 8)"
      ]
     },
     "execution_count": 4,
     "metadata": {},
     "output_type": "execute_result"
    }
   ],
   "source": [
    "df.shape"
   ]
  },
  {
   "cell_type": "markdown",
   "id": "63f2ac45-0beb-4a8e-8d14-9ce3bd83e709",
   "metadata": {},
   "source": [
    "### Dataset info\n",
    "\n",
    "In total the dataset has 7566 rows and 8 columns. There is no missing values according to this summary. \n",
    "\n",
    "Dtypes for this dataset are: float (2 columns), integer(1 column), object(5 columns)"
   ]
  },
  {
   "cell_type": "code",
   "execution_count": 5,
   "id": "0eef01fe-c024-4c3b-bdfd-8b21954507d2",
   "metadata": {},
   "outputs": [
    {
     "name": "stdout",
     "output_type": "stream",
     "text": [
      "<class 'pandas.core.frame.DataFrame'>\n",
      "RangeIndex: 7566 entries, 0 to 7565\n",
      "Data columns (total 8 columns):\n",
      " #   Column       Non-Null Count  Dtype  \n",
      "---  ------       --------------  -----  \n",
      " 0   Unnamed: 0   7566 non-null   int64  \n",
      " 1   date         7566 non-null   object \n",
      " 2   location     7566 non-null   object \n",
      " 3   IP address   7566 non-null   object \n",
      " 4   component    7566 non-null   object \n",
      " 5   interaction  7566 non-null   object \n",
      " 6   duration     7566 non-null   float64\n",
      " 7   downtime     7566 non-null   float64\n",
      "dtypes: float64(2), int64(1), object(5)\n",
      "memory usage: 473.0+ KB\n"
     ]
    }
   ],
   "source": [
    "df.info()"
   ]
  },
  {
   "cell_type": "code",
   "execution_count": 6,
   "id": "4327064c-da67-4b51-9e2e-ee95ccbd4e29",
   "metadata": {},
   "outputs": [
    {
     "name": "stdout",
     "output_type": "stream",
     "text": [
      "<class 'pandas.core.frame.DataFrame'>\n",
      "RangeIndex: 7566 entries, 0 to 7565\n",
      "Data columns (total 8 columns):\n",
      " #   Column       Non-Null Count  Dtype  \n",
      "---  ------       --------------  -----  \n",
      " 0   Unnamed: 0   7566 non-null   int64  \n",
      " 1   date         7566 non-null   object \n",
      " 2   location     7566 non-null   object \n",
      " 3   IP address   7566 non-null   object \n",
      " 4   component    7566 non-null   object \n",
      " 5   interaction  7566 non-null   object \n",
      " 6   duration     7566 non-null   float64\n",
      " 7   downtime     7566 non-null   float64\n",
      "dtypes: float64(2), int64(1), object(5)\n",
      "memory usage: 473.0+ KB\n"
     ]
    }
   ],
   "source": [
    "df.info()"
   ]
  },
  {
   "cell_type": "code",
   "execution_count": 7,
   "id": "028b8a9a-0d82-401b-afc2-1e869abe083e",
   "metadata": {},
   "outputs": [
    {
     "data": {
      "text/html": [
       "<div>\n",
       "<style scoped>\n",
       "    .dataframe tbody tr th:only-of-type {\n",
       "        vertical-align: middle;\n",
       "    }\n",
       "\n",
       "    .dataframe tbody tr th {\n",
       "        vertical-align: top;\n",
       "    }\n",
       "\n",
       "    .dataframe thead th {\n",
       "        text-align: right;\n",
       "    }\n",
       "</style>\n",
       "<table border=\"1\" class=\"dataframe\">\n",
       "  <thead>\n",
       "    <tr style=\"text-align: right;\">\n",
       "      <th></th>\n",
       "      <th>Unnamed: 0</th>\n",
       "      <th>duration</th>\n",
       "      <th>downtime</th>\n",
       "    </tr>\n",
       "  </thead>\n",
       "  <tbody>\n",
       "    <tr>\n",
       "      <th>count</th>\n",
       "      <td>7566.000000</td>\n",
       "      <td>7566.000000</td>\n",
       "      <td>7566.000000</td>\n",
       "    </tr>\n",
       "    <tr>\n",
       "      <th>mean</th>\n",
       "      <td>3782.500000</td>\n",
       "      <td>49.055133</td>\n",
       "      <td>25.154978</td>\n",
       "    </tr>\n",
       "    <tr>\n",
       "      <th>std</th>\n",
       "      <td>2184.260401</td>\n",
       "      <td>28.637389</td>\n",
       "      <td>30.581321</td>\n",
       "    </tr>\n",
       "    <tr>\n",
       "      <th>min</th>\n",
       "      <td>0.000000</td>\n",
       "      <td>0.010000</td>\n",
       "      <td>0.000000</td>\n",
       "    </tr>\n",
       "    <tr>\n",
       "      <th>25%</th>\n",
       "      <td>1891.250000</td>\n",
       "      <td>23.950000</td>\n",
       "      <td>0.000000</td>\n",
       "    </tr>\n",
       "    <tr>\n",
       "      <th>50%</th>\n",
       "      <td>3782.500000</td>\n",
       "      <td>49.035000</td>\n",
       "      <td>10.815000</td>\n",
       "    </tr>\n",
       "    <tr>\n",
       "      <th>75%</th>\n",
       "      <td>5673.750000</td>\n",
       "      <td>73.967500</td>\n",
       "      <td>46.097500</td>\n",
       "    </tr>\n",
       "    <tr>\n",
       "      <th>max</th>\n",
       "      <td>7565.000000</td>\n",
       "      <td>99.000000</td>\n",
       "      <td>98.970000</td>\n",
       "    </tr>\n",
       "  </tbody>\n",
       "</table>\n",
       "</div>"
      ],
      "text/plain": [
       "        Unnamed: 0     duration     downtime\n",
       "count  7566.000000  7566.000000  7566.000000\n",
       "mean   3782.500000    49.055133    25.154978\n",
       "std    2184.260401    28.637389    30.581321\n",
       "min       0.000000     0.010000     0.000000\n",
       "25%    1891.250000    23.950000     0.000000\n",
       "50%    3782.500000    49.035000    10.815000\n",
       "75%    5673.750000    73.967500    46.097500\n",
       "max    7565.000000    99.000000    98.970000"
      ]
     },
     "execution_count": 7,
     "metadata": {},
     "output_type": "execute_result"
    }
   ],
   "source": [
    "df.describe()"
   ]
  },
  {
   "cell_type": "markdown",
   "id": "11b53366-94c7-4815-8336-ffb31a513685",
   "metadata": {},
   "source": [
    "### Create a new column with percentage of the interaction duration that resulted in downtime"
   ]
  },
  {
   "cell_type": "code",
   "execution_count": 8,
   "id": "10effec8-2e49-49da-992a-073d8d6ccaf6",
   "metadata": {},
   "outputs": [
    {
     "data": {
      "text/html": [
       "<div>\n",
       "<style scoped>\n",
       "    .dataframe tbody tr th:only-of-type {\n",
       "        vertical-align: middle;\n",
       "    }\n",
       "\n",
       "    .dataframe tbody tr th {\n",
       "        vertical-align: top;\n",
       "    }\n",
       "\n",
       "    .dataframe thead th {\n",
       "        text-align: right;\n",
       "    }\n",
       "</style>\n",
       "<table border=\"1\" class=\"dataframe\">\n",
       "  <thead>\n",
       "    <tr style=\"text-align: right;\">\n",
       "      <th></th>\n",
       "      <th>Unnamed: 0</th>\n",
       "      <th>date</th>\n",
       "      <th>location</th>\n",
       "      <th>IP address</th>\n",
       "      <th>component</th>\n",
       "      <th>interaction</th>\n",
       "      <th>duration</th>\n",
       "      <th>downtime</th>\n",
       "      <th>downtime_perc</th>\n",
       "    </tr>\n",
       "  </thead>\n",
       "  <tbody>\n",
       "    <tr>\n",
       "      <th>0</th>\n",
       "      <td>0</td>\n",
       "      <td>2021-08-18</td>\n",
       "      <td>950 Rebecca Ranch Suite 170\\nNew Scott, NH 81801</td>\n",
       "      <td>165.61.147.242</td>\n",
       "      <td>mongodb database</td>\n",
       "      <td>other</td>\n",
       "      <td>16.90</td>\n",
       "      <td>13.89</td>\n",
       "      <td>82.189349</td>\n",
       "    </tr>\n",
       "    <tr>\n",
       "      <th>1</th>\n",
       "      <td>1</td>\n",
       "      <td>2021-06-08</td>\n",
       "      <td>55068 Kyle Centers\\nNorth Jenniferhaven, HI 44276</td>\n",
       "      <td>159.146.10.26</td>\n",
       "      <td>sap shipping management system</td>\n",
       "      <td>invalid SAP unit code</td>\n",
       "      <td>80.96</td>\n",
       "      <td>0.00</td>\n",
       "      <td>0.000000</td>\n",
       "    </tr>\n",
       "    <tr>\n",
       "      <th>2</th>\n",
       "      <td>2</td>\n",
       "      <td>2021-08-01</td>\n",
       "      <td>60517 Richard Lake\\nLake Lori, NJ 37360</td>\n",
       "      <td>129.94.76.202</td>\n",
       "      <td>sap shipping management system</td>\n",
       "      <td>server error</td>\n",
       "      <td>49.47</td>\n",
       "      <td>0.00</td>\n",
       "      <td>0.000000</td>\n",
       "    </tr>\n",
       "    <tr>\n",
       "      <th>3</th>\n",
       "      <td>3</td>\n",
       "      <td>2021-08-03</td>\n",
       "      <td>829 Cox Ferry\\nNicholasshire, VA 23634</td>\n",
       "      <td>49.137.245.5</td>\n",
       "      <td>django controller</td>\n",
       "      <td>HTTP 401 response</td>\n",
       "      <td>2.56</td>\n",
       "      <td>0.00</td>\n",
       "      <td>0.000000</td>\n",
       "    </tr>\n",
       "    <tr>\n",
       "      <th>4</th>\n",
       "      <td>4</td>\n",
       "      <td>2021-08-10</td>\n",
       "      <td>940 Odom Lodge\\nTimothyburgh, AZ 75746</td>\n",
       "      <td>172.200.143.223</td>\n",
       "      <td>ios frontend</td>\n",
       "      <td>dormant</td>\n",
       "      <td>47.26</td>\n",
       "      <td>0.00</td>\n",
       "      <td>0.000000</td>\n",
       "    </tr>\n",
       "  </tbody>\n",
       "</table>\n",
       "</div>"
      ],
      "text/plain": [
       "   Unnamed: 0        date                                           location  \\\n",
       "0           0  2021-08-18   950 Rebecca Ranch Suite 170\\nNew Scott, NH 81801   \n",
       "1           1  2021-06-08  55068 Kyle Centers\\nNorth Jenniferhaven, HI 44276   \n",
       "2           2  2021-08-01            60517 Richard Lake\\nLake Lori, NJ 37360   \n",
       "3           3  2021-08-03             829 Cox Ferry\\nNicholasshire, VA 23634   \n",
       "4           4  2021-08-10             940 Odom Lodge\\nTimothyburgh, AZ 75746   \n",
       "\n",
       "        IP address                       component            interaction  \\\n",
       "0   165.61.147.242                mongodb database                  other   \n",
       "1    159.146.10.26  sap shipping management system  invalid SAP unit code   \n",
       "2    129.94.76.202  sap shipping management system           server error   \n",
       "3     49.137.245.5               django controller      HTTP 401 response   \n",
       "4  172.200.143.223                    ios frontend                dormant   \n",
       "\n",
       "   duration  downtime  downtime_perc  \n",
       "0     16.90     13.89      82.189349  \n",
       "1     80.96      0.00       0.000000  \n",
       "2     49.47      0.00       0.000000  \n",
       "3      2.56      0.00       0.000000  \n",
       "4     47.26      0.00       0.000000  "
      ]
     },
     "execution_count": 8,
     "metadata": {},
     "output_type": "execute_result"
    }
   ],
   "source": [
    "df['downtime_perc'] = (df['downtime'] / df['duration']) *100\n",
    "\n",
    "df.head()"
   ]
  },
  {
   "cell_type": "code",
   "execution_count": 9,
   "id": "1b1d53ed-88e0-40e2-a1c4-ce1b358890eb",
   "metadata": {},
   "outputs": [
    {
     "data": {
      "text/plain": [
       "array(['mongodb database', 'sap shipping management system',\n",
       "       'django controller', 'ios frontend', 'android frontend',\n",
       "       'ai engine', 'web frontend', 'shipping database',\n",
       "       'customer database'], dtype=object)"
      ]
     },
     "execution_count": 9,
     "metadata": {},
     "output_type": "execute_result"
    }
   ],
   "source": [
    "df['component'].unique()"
   ]
  },
  {
   "cell_type": "markdown",
   "id": "699510af-942d-4e9b-acae-6df0533c72ff",
   "metadata": {},
   "source": [
    "### Visualizing the values of the column 'component' using a countplot from Seaborn. "
   ]
  },
  {
   "cell_type": "code",
   "execution_count": 10,
   "id": "66dfa0c0-569a-49f6-9e7d-2531a49abc73",
   "metadata": {},
   "outputs": [
    {
     "data": {
      "image/png": "[encoded data removed]",
      "text/plain": [
       "<Figure size 640x480 with 1 Axes>"
      ]
     },
     "metadata": {},
     "output_type": "display_data"
    }
   ],
   "source": [
    "ax = sns.countplot(data=df, y=\"component\", palette='viridis')\n",
    "\n",
    "plt.title(\"Component\", fontsize=10)\n",
    "plt.xlabel(\"Frequency\", fontsize=10)\n",
    "plt.ylabel(\"Component\", fontsize=10)\n",
    "ax.bar_label(ax.containers[0], fontsize=10);\n"
   ]
  },
  {
   "cell_type": "markdown",
   "id": "cb762036-15e4-4027-bbf3-7dcfe960724f",
   "metadata": {},
   "source": [
    "### Using a barplot,\n",
    "\n",
    "We can see each component(that was interacted with by the client) and average downtime percentage. \n",
    "\n",
    "- Downtime is the reported time in seconds that this interaction by the client caused in \n",
    "system downtime. Therefore, downtime is the amount of time that this component has been \n",
    "deemed unusable or vulnerable to a hack, malicious damage or threat."
   ]
  },
  {
   "cell_type": "code",
   "execution_count": 11,
   "id": "be539f4e-9963-4a04-a38c-90eda81e8f89",
   "metadata": {},
   "outputs": [
    {
     "data": {
      "image/png": "[encoded data removed]",
      "text/plain": [
       "<Figure size 640x480 with 1 Axes>"
      ]
     },
     "metadata": {},
     "output_type": "display_data"
    }
   ],
   "source": [
    "ax = sns.barplot(data=df, y=\"component\", x='downtime_perc', palette='viridis');\n",
    "plt.title(\"Component\", fontsize=10)\n",
    "plt.xlabel(\"Frequency\", fontsize=10)\n",
    "plt.ylabel(\"Component\", fontsize=10);\n",
    "\n"
   ]
  },
  {
   "cell_type": "code",
   "execution_count": 21,
   "id": "cf71359d-928f-4fff-a094-fc99531d5252",
   "metadata": {},
   "outputs": [
    {
     "name": "stdout",
     "output_type": "stream",
     "text": [
      "                        component  downtime_perc\n",
      "0                       ai engine      79.101679\n",
      "7               shipping database      78.999202\n",
      "5                mongodb database      78.884416\n",
      "4                    ios frontend      41.455761\n",
      "3               django controller      41.043794\n",
      "1                android frontend      39.889766\n",
      "8                    web frontend      39.053057\n",
      "2               customer database      38.232598\n",
      "6  sap shipping management system      36.303809\n"
     ]
    },
    {
     "ename": "AttributeError",
     "evalue": "'tuple' object has no attribute 'bar_label'",
     "output_type": "error",
     "traceback": [
      "\u001b[1;31m---------------------------------------------------------------------------\u001b[0m",
      "\u001b[1;31mAttributeError\u001b[0m                            Traceback (most recent call last)",
      "Cell \u001b[1;32mIn[21], line 19\u001b[0m\n\u001b[0;32m     17\u001b[0m plt\u001b[38;5;241m.\u001b[39mxlabel(\u001b[38;5;124m'\u001b[39m\u001b[38;5;124mAverage Downtime Percentage\u001b[39m\u001b[38;5;124m'\u001b[39m)\n\u001b[0;32m     18\u001b[0m plt\u001b[38;5;241m.\u001b[39mylabel(\u001b[38;5;124m'\u001b[39m\u001b[38;5;124mComponent\u001b[39m\u001b[38;5;124m'\u001b[39m)\n\u001b[1;32m---> 19\u001b[0m ax\u001b[38;5;241m.\u001b[39mbar_label(ax\u001b[38;5;241m.\u001b[39mcontainers[\u001b[38;5;241m0\u001b[39m], fontsize\u001b[38;5;241m=\u001b[39m\u001b[38;5;241m10\u001b[39m);\n\u001b[0;32m     20\u001b[0m plt\u001b[38;5;241m.\u001b[39mshow()\n",
      "\u001b[1;31mAttributeError\u001b[0m: 'tuple' object has no attribute 'bar_label'"
     ]
    },
    {
     "data": {
      "image/png": "[encoded data removed]",
      "text/plain": [
       "<Figure size 640x480 with 1 Axes>"
      ]
     },
     "metadata": {},
     "output_type": "display_data"
    },
    {
     "data": {
      "image/png": "[encoded data removed]",
      "text/plain": [
       "<Figure size 1000x600 with 1 Axes>"
      ]
     },
     "metadata": {},
     "output_type": "display_data"
    }
   ],
   "source": [
    "#Calculate the average downtime percentage per component\n",
    "downtime_summary = df.groupby('component')['downtime_perc'].mean().reset_index()\n",
    "\n",
    "#sort the components by average downtime percentage in descending order\n",
    "downtime_summary = downtime_summary.sort_values(by='downtime_perc', ascending=False)\n",
    "\n",
    "#components with the highest average downtime percentage\n",
    "top_components = downtime_summary.head(10)\n",
    "print(top_components)\n",
    "\n",
    "#visualizing the top components\n",
    "\n",
    "plt.subplots()\n",
    "plt.figure(figsize=(10, 6))\n",
    "sns.barplot(data=top_components, x='downtime_perc', y='component', palette='viridis')\n",
    "plt.title('Top Components with Highest Average Downtime')\n",
    "plt.xlabel('Average Downtime Percentage')\n",
    "plt.ylabel('Component')\n",
    "ax.bar_label(ax.containers[0], fontsize=10);\n",
    "plt.show()\n",
    "\n"
   ]
  },
  {
   "cell_type": "code",
   "execution_count": 14,
   "id": "cc9924a1-426b-420b-abc3-f0a592032d0b",
   "metadata": {},
   "outputs": [
    {
     "data": {
      "text/html": [
       "<div>\n",
       "<style scoped>\n",
       "    .dataframe tbody tr th:only-of-type {\n",
       "        vertical-align: middle;\n",
       "    }\n",
       "\n",
       "    .dataframe tbody tr th {\n",
       "        vertical-align: top;\n",
       "    }\n",
       "\n",
       "    .dataframe thead th {\n",
       "        text-align: right;\n",
       "    }\n",
       "</style>\n",
       "<table border=\"1\" class=\"dataframe\">\n",
       "  <thead>\n",
       "    <tr style=\"text-align: right;\">\n",
       "      <th></th>\n",
       "      <th>Unnamed: 0</th>\n",
       "      <th>location</th>\n",
       "      <th>IP address</th>\n",
       "      <th>component</th>\n",
       "      <th>interaction</th>\n",
       "      <th>duration</th>\n",
       "      <th>downtime</th>\n",
       "      <th>downtime_perc</th>\n",
       "    </tr>\n",
       "    <tr>\n",
       "      <th>date</th>\n",
       "      <th></th>\n",
       "      <th></th>\n",
       "      <th></th>\n",
       "      <th></th>\n",
       "      <th></th>\n",
       "      <th></th>\n",
       "      <th></th>\n",
       "      <th></th>\n",
       "    </tr>\n",
       "  </thead>\n",
       "  <tbody>\n",
       "    <tr>\n",
       "      <th>2021-08-18</th>\n",
       "      <td>0</td>\n",
       "      <td>950 Rebecca Ranch Suite 170\\nNew Scott, NH 81801</td>\n",
       "      <td>165.61.147.242</td>\n",
       "      <td>mongodb database</td>\n",
       "      <td>other</td>\n",
       "      <td>16.90</td>\n",
       "      <td>13.89</td>\n",
       "      <td>82.189349</td>\n",
       "    </tr>\n",
       "    <tr>\n",
       "      <th>2021-06-08</th>\n",
       "      <td>1</td>\n",
       "      <td>55068 Kyle Centers\\nNorth Jenniferhaven, HI 44276</td>\n",
       "      <td>159.146.10.26</td>\n",
       "      <td>sap shipping management system</td>\n",
       "      <td>invalid SAP unit code</td>\n",
       "      <td>80.96</td>\n",
       "      <td>0.00</td>\n",
       "      <td>0.000000</td>\n",
       "    </tr>\n",
       "    <tr>\n",
       "      <th>2021-08-01</th>\n",
       "      <td>2</td>\n",
       "      <td>60517 Richard Lake\\nLake Lori, NJ 37360</td>\n",
       "      <td>129.94.76.202</td>\n",
       "      <td>sap shipping management system</td>\n",
       "      <td>server error</td>\n",
       "      <td>49.47</td>\n",
       "      <td>0.00</td>\n",
       "      <td>0.000000</td>\n",
       "    </tr>\n",
       "    <tr>\n",
       "      <th>2021-08-03</th>\n",
       "      <td>3</td>\n",
       "      <td>829 Cox Ferry\\nNicholasshire, VA 23634</td>\n",
       "      <td>49.137.245.5</td>\n",
       "      <td>django controller</td>\n",
       "      <td>HTTP 401 response</td>\n",
       "      <td>2.56</td>\n",
       "      <td>0.00</td>\n",
       "      <td>0.000000</td>\n",
       "    </tr>\n",
       "    <tr>\n",
       "      <th>2021-08-10</th>\n",
       "      <td>4</td>\n",
       "      <td>940 Odom Lodge\\nTimothyburgh, AZ 75746</td>\n",
       "      <td>172.200.143.223</td>\n",
       "      <td>ios frontend</td>\n",
       "      <td>dormant</td>\n",
       "      <td>47.26</td>\n",
       "      <td>0.00</td>\n",
       "      <td>0.000000</td>\n",
       "    </tr>\n",
       "  </tbody>\n",
       "</table>\n",
       "</div>"
      ],
      "text/plain": [
       "            Unnamed: 0                                           location  \\\n",
       "date                                                                        \n",
       "2021-08-18           0   950 Rebecca Ranch Suite 170\\nNew Scott, NH 81801   \n",
       "2021-06-08           1  55068 Kyle Centers\\nNorth Jenniferhaven, HI 44276   \n",
       "2021-08-01           2            60517 Richard Lake\\nLake Lori, NJ 37360   \n",
       "2021-08-03           3             829 Cox Ferry\\nNicholasshire, VA 23634   \n",
       "2021-08-10           4             940 Odom Lodge\\nTimothyburgh, AZ 75746   \n",
       "\n",
       "                 IP address                       component  \\\n",
       "date                                                          \n",
       "2021-08-18   165.61.147.242                mongodb database   \n",
       "2021-06-08    159.146.10.26  sap shipping management system   \n",
       "2021-08-01    129.94.76.202  sap shipping management system   \n",
       "2021-08-03     49.137.245.5               django controller   \n",
       "2021-08-10  172.200.143.223                    ios frontend   \n",
       "\n",
       "                      interaction  duration  downtime  downtime_perc  \n",
       "date                                                                  \n",
       "2021-08-18                  other     16.90     13.89      82.189349  \n",
       "2021-06-08  invalid SAP unit code     80.96      0.00       0.000000  \n",
       "2021-08-01           server error     49.47      0.00       0.000000  \n",
       "2021-08-03      HTTP 401 response      2.56      0.00       0.000000  \n",
       "2021-08-10                dormant     47.26      0.00       0.000000  "
      ]
     },
     "execution_count": 14,
     "metadata": {},
     "output_type": "execute_result"
    }
   ],
   "source": [
    "#Set date column as Datetime index \n",
    "df = df.set_index('date')\n",
    "df.head()"
   ]
  },
  {
   "cell_type": "markdown",
   "id": "d0230c51-6287-4909-aca1-b0173069f564",
   "metadata": {},
   "source": [
    "### Decision\n",
    "\n",
    "The 3 areas of LogisticAI technology architecture are most at risk: AI engine, Shipping database and Mongodb database.\n",
    "    \n",
    "The 3 components that are risky has been identified based on the highest average of downtime percentage column. The Downtime is the reported time in seconds that this interaction by the client caused in \n",
    "system downtime. Therefore, downtime is the amount of time that this component has been deemed unusable or vulnerable to a hack, malicious damage or threat.\n",
    "\n",
    "Because Logistic AI is a technology company that provides software for shipping companies and helping them to optimize routes for ships \n",
    "that transport good across the ocean, these 3 components are essential to keep and maintain their technology architeture. \n",
    "                                                                                                                   \n",
    "The AI engine, Shipping database and Mongodb database has over 50% of downtime when compared to other components of the techonology structure like for example the customer database that are below 50% downtime. \n",
    "AI Engine - 79.10%\n",
    "Shipping database - 78.99% \n",
    "Mongodb database - 78.88%\n",
    "\n",
    "    \n",
    "I would say these components are most important to the company because the shipping database is where the company store huge amount of data related to the shipping routes, historical journeys, scheduled shipping journeys \n",
    "and shipping alerts, they supply their technology with huge amount of data. Also, AI engine - it will use their functions to optimize the shipping routes, it will use the database info provided by the Django controller. \n",
    "Finally, MongoDB is the database in which the trained machine learning models, their metadata and the parameters used within these models has been stored. It is very important that LogisticAI keep their technology updated and accurate because they deal with different clients in different locations and they need to follow these rules accordingly. \n",
    "\n",
    "\n",
    "LogisticAI has been invested heavily in data privacy and security and it is important that the company follow the regulations and apply best practices\n",
    "accordingly to keep the integrity of their service to their clients. \n",
    "\n",
    "\n",
    "\n",
    "\n",
    "                                                                                                                   \n",
    "                                                                                                                   \n",
    "    "
   ]
  },
  {
   "cell_type": "markdown",
   "id": "2b30b9e3-9f3e-452e-8c55-de6899065629",
   "metadata": {},
   "source": [
    "### \n",
    "The first slide must be an executive summary slide, which includes key points about your insights and next steps for the client and Deloitte. \n",
    "\n",
    "Use the accompanying video resource that explains how to create an executive summary slide.\n",
    "    \n",
    "The second slide should include a clear summary of the 3 components that are most at risk, showing evidence of why this is the case and their potential \n",
    "impact on the rest of the technology architecture if they were to go down completely."
   ]
  },
  {
   "cell_type": "code",
   "execution_count": null,
   "id": "5eb9f55d-7331-4530-b39c-d7ffb8ef2fc7",
   "metadata": {},
   "outputs": [],
   "source": []
  }
 ],
 "metadata": {
  "kernelspec": {
   "display_name": "Python 3 (ipykernel)",
   "language": "python",
   "name": "python3"
  },
  "language_info": {
   "codemirror_mode": {
    "name": "ipython",
    "version": 3
   },
   "file_extension": ".py",
   "mimetype": "text/x-python",
   "name": "python",
   "nbconvert_exporter": "python",
   "pygments_lexer": "ipython3",
   "version": "3.11.0"
  }
 },
 "nbformat": 4,
 "nbformat_minor": 5
}
